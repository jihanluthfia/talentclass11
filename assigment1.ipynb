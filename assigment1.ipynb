{
  "nbformat": 4,
  "nbformat_minor": 0,
  "metadata": {
    "colab": {
      "provenance": [],
      "authorship_tag": "ABX9TyOD4cKpSzgXPcmH7lef9wQU",
      "include_colab_link": true
    },
    "kernelspec": {
      "name": "python3",
      "display_name": "Python 3"
    },
    "language_info": {
      "name": "python"
    }
  },
  "cells": [
    {
      "cell_type": "markdown",
      "metadata": {
        "id": "view-in-github",
        "colab_type": "text"
      },
      "source": [
        "<a href=\"https://colab.research.google.com/github/jihanluthfia/talentclass11/blob/main/assigment1.ipynb\" target=\"_parent\"><img src=\"https://colab.research.google.com/assets/colab-badge.svg\" alt=\"Open In Colab\"/></a>"
      ]
    },
    {
      "cell_type": "code",
      "execution_count": 10,
      "metadata": {
        "colab": {
          "base_uri": "https://localhost:8080/"
        },
        "id": "y3-QNC-6YHN4",
        "outputId": "809551bb-3914-42be-8bfe-42a5b1ba0ea5"
      },
      "outputs": [
        {
          "output_type": "stream",
          "name": "stdout",
          "text": [
            "20K = -253.15C\n",
            "25C = 298.15K\n"
          ]
        }
      ],
      "source": [
        "# mengkonversi suhu dari kelvin ke celcius dan celcius ke kelvin\n",
        "def kel_to_cel(kel):\n",
        "    cel = kel - 273.15\n",
        "    return cel\n",
        "\n",
        "# K to C\n",
        "suhu_kel = 20\n",
        "suhu_cel = kel_to_cel(suhu_kel)\n",
        "print(f\"{suhu_kel}K = {suhu_cel:.2f}C\")\n",
        "\n",
        "def cel_to_kel(cel):\n",
        "    kel= cel + 273.15\n",
        "    return kel\n",
        "\n",
        "# C to K\n",
        "suhu_cel = 25\n",
        "suhu_kel = cel_to_kel(suhu_cel)\n",
        "print(f\"{suhu_cel}C = {suhu_kel:.2f}K\")\n",
        "\n"
      ]
    },
    {
      "cell_type": "code",
      "source": [
        "# mengkonversi suhu ke fahrenheit (dari celcius atau kelvin)\n",
        "def conv_to_far(temp, from_temp):\n",
        "\n",
        "    # apabila konversi awal adalah kelvin ke fahrenheit maka sebagai berikut\n",
        "    if from_temp.lower() == 'K':\n",
        "        temp = kel_to_cel(temp)\n",
        "\n",
        "    # kemudian konversi suhu dari celcius ke fahrenheit\n",
        "    far = (temp * 9/5) + 32\n",
        "    return far\n",
        "\n",
        "# C/K ke F\n",
        "konversi_suhu = 20\n",
        "conv_temp = conv_to_far(konversi_suhu, from_temp='cel')\n",
        "print(f\"{konversi_suhu}C = {conv_temp:.2f}F\")\n",
        "\n",
        "temperature_for_conversion = 300\n",
        "conv_temp= conv_to_far(konversi_suhu, from_temp='kel')\n",
        "print(f\"{konversi_suhu}K = {conv_temp:.2f}F\")\n"
      ],
      "metadata": {
        "colab": {
          "base_uri": "https://localhost:8080/"
        },
        "id": "STzK-sHUzsC-",
        "outputId": "1ca46f2c-aefc-40a4-8934-08928e2b22d5"
      },
      "execution_count": 11,
      "outputs": [
        {
          "output_type": "stream",
          "name": "stdout",
          "text": [
            "20C = 68.00F\n",
            "20K = 68.00F\n"
          ]
        }
      ]
    },
    {
      "cell_type": "code",
      "source": [
        "# mengkonversi suhu dari fahrenheit (ke celcius atau kelvin)\n",
        "def conv_far_to(temp, to_temp):\n",
        "\n",
        "    # dari fahrenheit ke celcius\n",
        "    cel = (temp - 32) * 5/9\n",
        "\n",
        "    # apabila ingin mengkonversi ke kelvin maka sebagai berikut\n",
        "    if to_temp.lower() == 'K':\n",
        "        return cel_to_kel(cel)\n",
        "    return cel\n",
        "\n",
        "# F ke C/K\n",
        "suhu_far = 68\n",
        "conv_temp_cel = conv_far_to(suhu_far, to_temp='cel')\n",
        "print(f\"{suhu_far}F = {conv_temp_cel :.2f}C\")\n",
        "\n",
        "conv_temp_kel  = conv_far_to(suhu_far, to_temp='kel')\n",
        "print(f\"{suhu_far}F = {conv_temp_kel:.2f}K\")"
      ],
      "metadata": {
        "colab": {
          "base_uri": "https://localhost:8080/"
        },
        "id": "6wfjQEaezyUl",
        "outputId": "9b088be5-a5a3-4f16-e5cc-d46c6c91b15c"
      },
      "execution_count": 12,
      "outputs": [
        {
          "output_type": "stream",
          "name": "stdout",
          "text": [
            "68F = 20.00C\n",
            "68F = 20.00K\n"
          ]
        }
      ]
    }
  ]
}